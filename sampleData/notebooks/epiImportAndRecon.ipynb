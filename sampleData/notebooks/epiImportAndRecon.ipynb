{
 "cells": [
  {
   "cell_type": "code",
   "execution_count": null,
   "metadata": {},
   "outputs": [],
   "source": [
    "import   os\n",
    "import   sys\n",
    "sys.path.insert(0, os.path.abspath('.'))\n",
    "from     ismrmrdUtils   import   rawMRutils\n",
    "import   numpy          as       np\n",
    "import   ismrmrd"
   ]
  },
  {
   "cell_type": "markdown",
   "metadata": {},
   "source": [
    "## First - read in (fully sampled) EPI data from array coil"
   ]
  },
  {
   "cell_type": "code",
   "execution_count": null,
   "metadata": {},
   "outputs": [],
   "source": [
    "dataHeader, dataArray, refDataArray = rawMRutils.returnHeaderAndData('./ScanArchive_EPI_converted.h5')"
   ]
  },
  {
   "cell_type": "code",
   "execution_count": null,
   "metadata": {},
   "outputs": [],
   "source": [
    "imageSpace = np.fft.fftshift(np.fft.fft2(dataArray, axes=(1,2)), axes=(1,2))"
   ]
  },
  {
   "cell_type": "code",
   "execution_count": null,
   "metadata": {},
   "outputs": [],
   "source": [
    "rawMRutils.computeAndPlot(imageSpace)"
   ]
  },
  {
   "cell_type": "code",
   "execution_count": null,
   "metadata": {},
   "outputs": [],
   "source": [
    "dataArray.shape"
   ]
  },
  {
   "cell_type": "code",
   "execution_count": null,
   "metadata": {},
   "outputs": [],
   "source": [
    "rawDataArray = ismrmrd.Dataset('./ScanArchive_EPI_converted.h5', '/dataset', True)"
   ]
  },
  {
   "cell_type": "code",
   "execution_count": null,
   "metadata": {},
   "outputs": [],
   "source": [
    "rawDataArray.number_of_acquisitions()"
   ]
  },
  {
   "cell_type": "code",
   "execution_count": null,
   "metadata": {},
   "outputs": [],
   "source": [
    "for i in range(rawDataArray.number_of_acquisitions()):\n",
    "   thisAcq = rawDataArray.read_acquisition(i)\n",
    "   if (thisAcq.is_flag_set(24)): # 24 == ACQ_IS_PHASECORR_DATA flag - need to figure out how to include definition\n",
    "      print (\"Flags for acquisition %05d is %s, with phase encode step %d\" % (i, thisAcq.flags, thisAcq.idx.kspace_encode_step_1))"
   ]
  },
  {
   "cell_type": "code",
   "execution_count": null,
   "metadata": {},
   "outputs": [],
   "source": [
    "dataArrayHeader = ismrmrd.xsd.CreateFromDocument(rawDataArray.read_xml_header())"
   ]
  },
  {
   "cell_type": "code",
   "execution_count": null,
   "metadata": {
    "scrolled": true
   },
   "outputs": [],
   "source": [
    "print(str(dataArrayHeader.toxml()))"
   ]
  },
  {
   "cell_type": "code",
   "execution_count": null,
   "metadata": {},
   "outputs": [],
   "source": [
    "dataArrayHeader.encoding[0].trajectoryDescription.userParameterLong[:]"
   ]
  },
  {
   "cell_type": "code",
   "execution_count": null,
   "metadata": {},
   "outputs": [],
   "source": [
    "dataArrayHeader.encoding[0].trajectory"
   ]
  },
  {
   "cell_type": "code",
   "execution_count": null,
   "metadata": {},
   "outputs": [],
   "source": [
    "dataArrayHeader.encoding[0].trajectoryDescription.identifier"
   ]
  },
  {
   "cell_type": "code",
   "execution_count": null,
   "metadata": {},
   "outputs": [],
   "source": [
    "for i, val in enumerate(dataArrayHeader.encoding[0].trajectoryDescription.userParameterLong[:]):\n",
    "   print (\"User element %d is %18s, value: %s\" % (i, dataArrayHeader.encoding[0].trajectoryDescription.userParameterLong[i].name, val))"
   ]
  },
  {
   "cell_type": "code",
   "execution_count": null,
   "metadata": {},
   "outputs": [],
   "source": [
    "dataArrayHeader.encoding[0].trajectoryDescription.userParameterLong[1].value"
   ]
  }
 ],
 "metadata": {
  "kernelspec": {
   "display_name": "Python 3",
   "language": "python",
   "name": "python3"
  },
  "language_info": {
   "codemirror_mode": {
    "name": "ipython",
    "version": 3
   },
   "file_extension": ".py",
   "mimetype": "text/x-python",
   "name": "python",
   "nbconvert_exporter": "python",
   "pygments_lexer": "ipython3",
   "version": "3.7.3"
  }
 },
 "nbformat": 4,
 "nbformat_minor": 2
}
