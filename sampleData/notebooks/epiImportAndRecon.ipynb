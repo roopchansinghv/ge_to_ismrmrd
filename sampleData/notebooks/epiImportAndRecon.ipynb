{
 "cells": [
  {
   "cell_type": "code",
   "execution_count": null,
   "metadata": {},
   "outputs": [],
   "source": [
    "import   os\n",
    "import   sys\n",
    "sys.path.insert(0, os.path.abspath('.'))\n",
    "from     ismrmrdUtils   import   rawMRutils\n",
    "import   numpy          as       np\n",
    "import   ismrmrd"
   ]
  },
  {
   "cell_type": "markdown",
   "metadata": {},
   "source": [
    "## First - read in (fully sampled) EPI data from array coil"
   ]
  },
  {
   "cell_type": "code",
   "execution_count": null,
   "metadata": {},
   "outputs": [],
   "source": [
    "dataHeader, dataArray, refDataArray = rawMRutils.returnHeaderAndData('./ScanArchive_EPI_converted.h5')"
   ]
  },
  {
   "cell_type": "code",
   "execution_count": null,
   "metadata": {},
   "outputs": [],
   "source": [
    "# imageSpace = np.fft.fftshift(np.fft.fft2(dataArray, axes=(1,2)), axes=(1,2))"
   ]
  },
  {
   "cell_type": "code",
   "execution_count": null,
   "metadata": {},
   "outputs": [],
   "source": [
    "# rawMRutils.computeAndPlot(imageSpace)"
   ]
  },
  {
   "cell_type": "code",
   "execution_count": null,
   "metadata": {},
   "outputs": [],
   "source": [
    "dataArray.shape"
   ]
  },
  {
   "cell_type": "code",
   "execution_count": null,
   "metadata": {},
   "outputs": [],
   "source": [
    "refDataArray.shape"
   ]
  },
  {
   "cell_type": "code",
   "execution_count": null,
   "metadata": {},
   "outputs": [],
   "source": [
    "import matplotlib\n",
    "import matplotlib.pyplot as mplt"
   ]
  },
  {
   "cell_type": "code",
   "execution_count": null,
   "metadata": {},
   "outputs": [],
   "source": [
    "\n",
    "def computeN2GhostCorrection (angleData):          \n",
    "\n",
    "   x = np.linspace(-0.5,0.5,len(angleData))\n",
    "   w = np.abs(angleData)\n",
    "   # X = np.zeros([x.size,3])\n",
    "   X = np.zeros([x.size,5])\n",
    "\n",
    "   X[:,0] = w \n",
    "   X[:,1] = w*x\n",
    "   X[:,2] = w*x**2\n",
    "   X[:,3] = w*x**3\n",
    "   X[:,4] = w*x**4\n",
    "\n",
    "   B,resid,rank,sigma = np.linalg.lstsq(X,w*np.angle(angleData))\n",
    "\n",
    "   # oefit = B[0] + B[1]*x + B[2]*x**2\n",
    "   oefit = B[0] + B[1]*x + B[2]*x**2 + B[3]*x**3 + B[4]*x**4\n",
    "\n",
    "   return (np.exp (-1j * oefit))\n",
    "\n",
    "\n",
    "\n",
    "\n",
    "\n",
    "def loadNonComplexToComplex (self, nonComplexData):\n",
    "   return (nonComplexData[0::2] + 1j * nonComplexData[1::2])\n",
    "\n",
    "\n",
    "\n",
    "\n",
    "\n",
    "def oneDimTransform (self, data2Transform):\n",
    "   return np.fft.fftshift(np.fft.fft(np.fft.fftshift(data2Transform)))\n"
   ]
  },
  {
   "cell_type": "code",
   "execution_count": null,
   "metadata": {},
   "outputs": [],
   "source": [
    "nCoils  = refDataArray.shape[0]\n",
    "nNavs   = refDataArray.shape[2]\n",
    "nSlices = refDataArray.shape[3]\n",
    "nReps   = refDataArray.shape[4]\n",
    "\n",
    "navData = np.zeros((nCoils, refDataArray.shape[1], nNavs), dtype=np.complex64)\n",
    "\n",
    "for s in range (nSlices):\n",
    "   for r in range (nReps):\n",
    "      for n in range (nNavs):\n",
    "         if (n != 0): # First line does NOT contain reference data, so use to store\n",
    "            navData[:, :, n] = np.fft.fftshift(np.fft.fft(np.fft.fftshift(refDataArray[:, :, n, s, r], axes=[1]), axis=1), axes=[1])\n",
    "\n",
    "      # Store odd - even phase difference back in line '0' of reference data array, as that line does not hold data useful for this\n",
    "      for c in range (nCoils):\n",
    "         refDataArray[c, :, 0, s, r] = computeN2GhostCorrection(np.angle(((navData[c, :, 1] + navData[c, :, 3])*0.5) * np.conj (navData[c, :, 2])))"
   ]
  },
  {
   "cell_type": "code",
   "execution_count": null,
   "metadata": {},
   "outputs": [],
   "source": [
    "fig, ax = mplt.subplots(1, 1, sharex=True, sharey=True)\n",
    "\n",
    "correctionDataKSpace = np.fft.ifftshift(np.fft.ifft(np.fft.ifftshift(refDataArray, axes = 1), axis = 1), axes = 1)\n",
    "\n",
    "ax.plot(np.angle(correctionDataKSpace[15, :, 0:4, 1, 4]), label=str('phase'))\n",
    "ax.legend()"
   ]
  },
  {
   "cell_type": "code",
   "execution_count": null,
   "metadata": {},
   "outputs": [],
   "source": [
    "correctedArray = np.zeros (dataArray.shape, dtype = np.complex64)\n",
    "\n",
    "for s in range (nSlices):\n",
    "   for r in range (nReps):\n",
    "      for c in range (nCoils):\n",
    "         for p in range (dataArray.shape[2]):\n",
    "            if ((p % 2) == 1):\n",
    "               correctedArray [c, :, p, s, r] = np.convolve(dataArray [c, :, p, s, r], correctionDataKSpace[c, :, 0, s, r], mode='same')"
   ]
  },
  {
   "cell_type": "code",
   "execution_count": null,
   "metadata": {},
   "outputs": [],
   "source": [
    "imageSpace = np.fft.fftshift(np.fft.fft2(correctedArray, axes=(1,2)), axes=(1,2))"
   ]
  },
  {
   "cell_type": "code",
   "execution_count": null,
   "metadata": {},
   "outputs": [],
   "source": [
    "# imageSpace = np.fft.fftshift(np.fft.fft2(dataArray, axes=(1,2)), axes=(1,2))\n",
    "# rawMRutils.computeAndPlot(imageSpace)\n",
    "plottedFigures = mplt.figure(figsize=(12,18))\n",
    "\n",
    "subImages = plottedFigures.add_subplot(1, 1, (1))\n",
    "\n",
    "subImages.imshow(np.sum(np.sqrt(abs(imageSpace[:, :, :, 1, 3])), axis=0), 'viridis')"
   ]
  }
 ],
 "metadata": {
  "kernelspec": {
   "display_name": "Python 3",
   "language": "python",
   "name": "python3"
  },
  "language_info": {
   "codemirror_mode": {
    "name": "ipython",
    "version": 3
   },
   "file_extension": ".py",
   "mimetype": "text/x-python",
   "name": "python",
   "nbconvert_exporter": "python",
   "pygments_lexer": "ipython3",
   "version": "3.7.3"
  }
 },
 "nbformat": 4,
 "nbformat_minor": 2
}
