{
 "cells": [
  {
   "cell_type": "code",
   "execution_count": null,
   "metadata": {},
   "outputs": [],
   "source": [
    "import   os\n",
    "import   sys\n",
    "sys.path.insert(0, os.path.abspath('.'))\n",
    "from     ismrmrdUtils   import   rawMRutils\n",
    "import   numpy          as       np\n",
    "import   ismrmrd"
   ]
  },
  {
   "cell_type": "markdown",
   "metadata": {},
   "source": [
    "## First - read in (fully sampled) EPI data from array coil"
   ]
  },
  {
   "cell_type": "code",
   "execution_count": null,
   "metadata": {},
   "outputs": [],
   "source": [
    "dataHeader, dataArray, refDataArray = rawMRutils.returnHeaderAndData('./ScanArchive_EPI_converted.h5')"
   ]
  },
  {
   "cell_type": "code",
   "execution_count": null,
   "metadata": {},
   "outputs": [],
   "source": [
    "dataArray.shape"
   ]
  },
  {
   "cell_type": "code",
   "execution_count": null,
   "metadata": {},
   "outputs": [],
   "source": [
    "refDataArray.shape"
   ]
  },
  {
   "cell_type": "code",
   "execution_count": null,
   "metadata": {},
   "outputs": [],
   "source": [
    "import matplotlib\n",
    "import matplotlib.pyplot as mplt"
   ]
  },
  {
   "cell_type": "code",
   "execution_count": null,
   "metadata": {},
   "outputs": [],
   "source": [
    "\n",
    "def computeN2GhostCorrection (angleData):\n",
    "\n",
    "   x = np.linspace(-0.5,0.5,len(angleData))\n",
    "   w = np.abs(angleData)\n",
    "   A = np.zeros([x.size,3])\n",
    "\n",
    "   A[:,0] = w \n",
    "   A[:,1] = w*x\n",
    "   A[:,2] = w*x**2\n",
    "   B      = w*np.angle(angleData) # magnitude-weighted phase data\n",
    "\n",
    "   X,resid,rank,sigma = np.linalg.lstsq(A, B, rcond=None)\n",
    "\n",
    "   oefit = X[0] + X[1]*x + X[2]*x**2\n",
    "\n",
    "   return (np.exp(1j * oefit))\n",
    "\n",
    "\n",
    "\n",
    "def loadNonComplexToComplex (nonComplexData):\n",
    "   return (nonComplexData[0::2] + 1j * nonComplexData[1::2])\n",
    "\n",
    "\n",
    "\n",
    "def oneDimTransform (data2Transform):\n",
    "   return np.fft.fftshift(np.fft.fft(np.fft.fftshift(data2Transform)))\n"
   ]
  },
  {
   "cell_type": "code",
   "execution_count": null,
   "metadata": {},
   "outputs": [],
   "source": [
    "nCoils   = refDataArray.shape[0]\n",
    "nNavs    = refDataArray.shape[2]\n",
    "nSlices  = refDataArray.shape[3]\n",
    "nReps    = refDataArray.shape[4]\n",
    "\n",
    "corrData = np.zeros(refDataArray.shape, dtype=np.complex64)\n",
    "\n",
    "for s in range (nSlices):\n",
    "   for r in range (nReps):\n",
    "      for n in range (1, nNavs, 1): # First line (n == 0) does NOT contain reference data, so can use to store results.\n",
    "         corrData[:, :, n, s, r] = np.fft.fftshift(np.fft.fft(np.fft.fftshift(refDataArray[:, :, n, s, r], axes=[1]), axis=1), axes=[1])\n",
    "\n",
    "      # Store odd - even phase difference back in line '0' of reference data array, as that line does not hold data useful.\n",
    "      for c in range (nCoils):\n",
    "         angleData = (corrData[c, :, 1, s, r] + corrData[c, :, 3, s, r]) * 0.5 * np.conj(corrData[c, :, 2, s, r])\n",
    "\n",
    "         # Use phase difference between odd/even lines directly, normalized by magnitude (suggested by @jad11).\n",
    "         # corrData[c, :, 0, s, r] = angleData / abs(angleData)\n",
    "\n",
    "         # Or call polynomial phase fitting routine.\n",
    "         corrData[c, :, 0, s, r] = computeN2GhostCorrection(angleData)"
   ]
  },
  {
   "cell_type": "code",
   "execution_count": null,
   "metadata": {},
   "outputs": [],
   "source": [
    "# Debugging cell - checking contents of reference lines and results of computations to fit phase.\n",
    "\n",
    "fig, ax     = mplt.subplots(1, 1, sharex=True, sharey=True)\n",
    "# item2Plot   = np.zeros ((dataArray.shape[1], 2) , dtype = np.complex64)\n",
    "item2Plot   = np.zeros ((100, 4) , dtype = np.complex64)\n",
    "\n",
    "item2Plot = corrData[15, 70:170, 0, 1, 3]\n",
    "# item2Plot = np.exp(-1j * oefit)\n",
    "\n",
    "ax.plot((np.angle(item2Plot)), label=str('phase'))\n",
    "# ax.plot(np.abs(item2Plot), label=str('mag'))\n",
    "ax.legend()"
   ]
  },
  {
   "cell_type": "code",
   "execution_count": null,
   "metadata": {},
   "outputs": [],
   "source": [
    "# Apply phase corrections.\n",
    "\n",
    "correctedArray   = np.zeros (dataArray.shape, dtype = np.complex64)\n",
    "\n",
    "xFormedInReadout = np.fft.fftshift(np.fft.fft(np.fft.fftshift(dataArray, axes=[1]), axis=1), axes=[1])\n",
    "\n",
    "# Apply phase correction to alternating lines.\n",
    "correctedArray[:, :, 0:dataArray.shape[2]:2, :, :] = (xFormedInReadout[:, :, 0:dataArray.shape[2]:2, :, :]\n",
    "                                                          *   corrData[:, :, 0:1:1,                  :, :])\n",
    "\n",
    "# Then copy in data that were not corrected, i.e. alternate lines NOT corrected above.\n",
    "correctedArray[:, :, 1:dataArray.shape[2]:2, :, :] =  xFormedInReadout[:, :, 1:dataArray.shape[2]:2, :, :]"
   ]
  },
  {
   "cell_type": "code",
   "execution_count": null,
   "metadata": {},
   "outputs": [],
   "source": [
    "imageSpace = (np.fft.fft(np.fft.fftshift(correctedArray, axes=[2]), axis=2))\n",
    "# imageSpace = np.fft.fftshift(np.fft.fft2(dataArray, axes=(1,2)), axes=(1,2))\n",
    "rawMRutils.computeAndPlot(imageSpace)\n",
    "plottedFigures = mplt.figure(figsize=(12,18))\n",
    "\n",
    "subImages = plottedFigures.add_subplot(1, 1, (1))\n",
    "\n",
    "# fixedKSpace = np.fft.ifftshift(np.fft.ifft2(imageSpace, axes=(1,2)), axes=(1,2))\n",
    "# disp = np.angle(fixedKSpace[15, :, :, 1, 3])\n",
    "disp = abs(imageSpace[:, :, :, 1, 3])\n",
    "\n",
    "subImages.imshow(np.sqrt(np.sum(disp*disp, axis=0)), 'viridis')\n",
    "# subImages.imshow(disp)"
   ]
  }
 ],
 "metadata": {
  "kernelspec": {
   "display_name": "Python 3",
   "language": "python",
   "name": "python3"
  },
  "language_info": {
   "codemirror_mode": {
    "name": "ipython",
    "version": 3
   },
   "file_extension": ".py",
   "mimetype": "text/x-python",
   "name": "python",
   "nbconvert_exporter": "python",
   "pygments_lexer": "ipython3",
   "version": "3.7.3"
  }
 },
 "nbformat": 4,
 "nbformat_minor": 2
}
